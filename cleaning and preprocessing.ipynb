{
 "cells": [
  {
   "cell_type": "code",
   "execution_count": 1,
   "id": "0a3a6990",
   "metadata": {},
   "outputs": [],
   "source": [
    "import pandas as pd\n",
    "import numpy as np\n",
    "import seaborn as sns \n",
    "import matplotlib.pyplot as plt\n",
    "\n",
    "import warnings\n",
    "warnings.filterwarnings(\"ignore\")\n",
    "from sklearn.metrics import r2_score, root_mean_squared_error"
   ]
  },
  {
   "cell_type": "code",
   "execution_count": 2,
   "id": "0b7b7579",
   "metadata": {},
   "outputs": [],
   "source": [
    "data=pd.read_csv(\"1. Regression - Module - (Housing Prices).csv\")"
   ]
  },
  {
   "cell_type": "code",
   "execution_count": 3,
   "id": "a3aa0ff7",
   "metadata": {},
   "outputs": [
    {
     "data": {
      "text/html": [
       "<div>\n",
       "<style scoped>\n",
       "    .dataframe tbody tr th:only-of-type {\n",
       "        vertical-align: middle;\n",
       "    }\n",
       "\n",
       "    .dataframe tbody tr th {\n",
       "        vertical-align: top;\n",
       "    }\n",
       "\n",
       "    .dataframe thead th {\n",
       "        text-align: right;\n",
       "    }\n",
       "</style>\n",
       "<table border=\"1\" class=\"dataframe\">\n",
       "  <thead>\n",
       "    <tr style=\"text-align: right;\">\n",
       "      <th></th>\n",
       "      <th>ID</th>\n",
       "      <th>Date House was Sold</th>\n",
       "      <th>Sale Price</th>\n",
       "      <th>No of Bedrooms</th>\n",
       "      <th>No of Bathrooms</th>\n",
       "      <th>Flat Area (in Sqft)</th>\n",
       "      <th>Lot Area (in Sqft)</th>\n",
       "      <th>No of Floors</th>\n",
       "      <th>Waterfront View</th>\n",
       "      <th>No of Times Visited</th>\n",
       "      <th>...</th>\n",
       "      <th>Overall Grade</th>\n",
       "      <th>Area of the House from Basement (in Sqft)</th>\n",
       "      <th>Basement Area (in Sqft)</th>\n",
       "      <th>Age of House (in Years)</th>\n",
       "      <th>Renovated Year</th>\n",
       "      <th>Zipcode</th>\n",
       "      <th>Latitude</th>\n",
       "      <th>Longitude</th>\n",
       "      <th>Living Area after Renovation (in Sqft)</th>\n",
       "      <th>Lot Area after Renovation (in Sqft)</th>\n",
       "    </tr>\n",
       "  </thead>\n",
       "  <tbody>\n",
       "    <tr>\n",
       "      <th>0</th>\n",
       "      <td>7129300520</td>\n",
       "      <td>14 October 2017</td>\n",
       "      <td>221900.0</td>\n",
       "      <td>3</td>\n",
       "      <td>1.00</td>\n",
       "      <td>1180.0</td>\n",
       "      <td>5650.0</td>\n",
       "      <td>1.0</td>\n",
       "      <td>No</td>\n",
       "      <td>NaN</td>\n",
       "      <td>...</td>\n",
       "      <td>7</td>\n",
       "      <td>1180.0</td>\n",
       "      <td>0</td>\n",
       "      <td>63</td>\n",
       "      <td>0</td>\n",
       "      <td>98178.0</td>\n",
       "      <td>47.5112</td>\n",
       "      <td>-122.257</td>\n",
       "      <td>1340.0</td>\n",
       "      <td>5650</td>\n",
       "    </tr>\n",
       "    <tr>\n",
       "      <th>1</th>\n",
       "      <td>6414100192</td>\n",
       "      <td>14 December 2017</td>\n",
       "      <td>538000.0</td>\n",
       "      <td>3</td>\n",
       "      <td>2.25</td>\n",
       "      <td>2570.0</td>\n",
       "      <td>7242.0</td>\n",
       "      <td>2.0</td>\n",
       "      <td>No</td>\n",
       "      <td>NaN</td>\n",
       "      <td>...</td>\n",
       "      <td>7</td>\n",
       "      <td>2170.0</td>\n",
       "      <td>400</td>\n",
       "      <td>67</td>\n",
       "      <td>1991</td>\n",
       "      <td>98125.0</td>\n",
       "      <td>47.7210</td>\n",
       "      <td>-122.319</td>\n",
       "      <td>1690.0</td>\n",
       "      <td>7639</td>\n",
       "    </tr>\n",
       "    <tr>\n",
       "      <th>2</th>\n",
       "      <td>5631500400</td>\n",
       "      <td>15 February 2016</td>\n",
       "      <td>180000.0</td>\n",
       "      <td>2</td>\n",
       "      <td>1.00</td>\n",
       "      <td>770.0</td>\n",
       "      <td>10000.0</td>\n",
       "      <td>1.0</td>\n",
       "      <td>No</td>\n",
       "      <td>NaN</td>\n",
       "      <td>...</td>\n",
       "      <td>6</td>\n",
       "      <td>770.0</td>\n",
       "      <td>0</td>\n",
       "      <td>85</td>\n",
       "      <td>0</td>\n",
       "      <td>98028.0</td>\n",
       "      <td>47.7379</td>\n",
       "      <td>-122.233</td>\n",
       "      <td>2720.0</td>\n",
       "      <td>8062</td>\n",
       "    </tr>\n",
       "  </tbody>\n",
       "</table>\n",
       "<p>3 rows × 21 columns</p>\n",
       "</div>"
      ],
      "text/plain": [
       "           ID Date House was Sold  Sale Price  No of Bedrooms  \\\n",
       "0  7129300520     14 October 2017    221900.0               3   \n",
       "1  6414100192    14 December 2017    538000.0               3   \n",
       "2  5631500400    15 February 2016    180000.0               2   \n",
       "\n",
       "   No of Bathrooms  Flat Area (in Sqft)  Lot Area (in Sqft)  No of Floors  \\\n",
       "0             1.00               1180.0              5650.0           1.0   \n",
       "1             2.25               2570.0              7242.0           2.0   \n",
       "2             1.00                770.0             10000.0           1.0   \n",
       "\n",
       "  Waterfront View No of Times Visited  ... Overall Grade  \\\n",
       "0              No                 NaN  ...             7   \n",
       "1              No                 NaN  ...             7   \n",
       "2              No                 NaN  ...             6   \n",
       "\n",
       "   Area of the House from Basement (in Sqft)  Basement Area (in Sqft)  \\\n",
       "0                                     1180.0                        0   \n",
       "1                                     2170.0                      400   \n",
       "2                                      770.0                        0   \n",
       "\n",
       "   Age of House (in Years)  Renovated Year  Zipcode  Latitude  Longitude  \\\n",
       "0                       63               0  98178.0   47.5112   -122.257   \n",
       "1                       67            1991  98125.0   47.7210   -122.319   \n",
       "2                       85               0  98028.0   47.7379   -122.233   \n",
       "\n",
       "   Living Area after Renovation (in Sqft)  Lot Area after Renovation (in Sqft)  \n",
       "0                                  1340.0                                 5650  \n",
       "1                                  1690.0                                 7639  \n",
       "2                                  2720.0                                 8062  \n",
       "\n",
       "[3 rows x 21 columns]"
      ]
     },
     "execution_count": 3,
     "metadata": {},
     "output_type": "execute_result"
    }
   ],
   "source": [
    "data.head(3)"
   ]
  },
  {
   "cell_type": "code",
   "execution_count": 4,
   "id": "e470b0a6",
   "metadata": {},
   "outputs": [
    {
     "data": {
      "text/plain": [
       "ID                                               0\n",
       "Date House was Sold                              0\n",
       "Sale Price                                       4\n",
       "No of Bedrooms                                   0\n",
       "No of Bathrooms                                  4\n",
       "Flat Area (in Sqft)                              9\n",
       "Lot Area (in Sqft)                               9\n",
       "No of Floors                                     0\n",
       "Waterfront View                                  0\n",
       "No of Times Visited                          19489\n",
       "Condition of the House                           0\n",
       "Overall Grade                                    0\n",
       "Area of the House from Basement (in Sqft)        3\n",
       "Basement Area (in Sqft)                          0\n",
       "Age of House (in Years)                          0\n",
       "Renovated Year                                   0\n",
       "Zipcode                                          1\n",
       "Latitude                                         1\n",
       "Longitude                                        1\n",
       "Living Area after Renovation (in Sqft)           1\n",
       "Lot Area after Renovation (in Sqft)              0\n",
       "dtype: int64"
      ]
     },
     "execution_count": 4,
     "metadata": {},
     "output_type": "execute_result"
    }
   ],
   "source": [
    "data.isnull().sum()"
   ]
  },
  {
   "cell_type": "markdown",
   "id": "bf1fe61e",
   "metadata": {},
   "source": [
    "data cleaning "
   ]
  },
  {
   "cell_type": "code",
   "execution_count": 5,
   "id": "79c8efcc",
   "metadata": {},
   "outputs": [],
   "source": [
    "data.dropna(subset=[\"Sale Price\",\"Zipcode\"],inplace=True)"
   ]
  },
  {
   "cell_type": "code",
   "execution_count": 6,
   "id": "6993452d",
   "metadata": {},
   "outputs": [
    {
     "name": "stdout",
     "output_type": "stream",
     "text": [
      "<class 'pandas.core.frame.DataFrame'>\n",
      "Index: 21608 entries, 0 to 21612\n",
      "Data columns (total 21 columns):\n",
      " #   Column                                     Non-Null Count  Dtype  \n",
      "---  ------                                     --------------  -----  \n",
      " 0   ID                                         21608 non-null  int64  \n",
      " 1   Date House was Sold                        21608 non-null  object \n",
      " 2   Sale Price                                 21608 non-null  float64\n",
      " 3   No of Bedrooms                             21608 non-null  int64  \n",
      " 4   No of Bathrooms                            21604 non-null  float64\n",
      " 5   Flat Area (in Sqft)                        21599 non-null  float64\n",
      " 6   Lot Area (in Sqft)                         21599 non-null  float64\n",
      " 7   No of Floors                               21608 non-null  float64\n",
      " 8   Waterfront View                            21608 non-null  object \n",
      " 9   No of Times Visited                        2124 non-null   object \n",
      " 10  Condition of the House                     21608 non-null  object \n",
      " 11  Overall Grade                              21608 non-null  int64  \n",
      " 12  Area of the House from Basement (in Sqft)  21605 non-null  float64\n",
      " 13  Basement Area (in Sqft)                    21608 non-null  int64  \n",
      " 14  Age of House (in Years)                    21608 non-null  int64  \n",
      " 15  Renovated Year                             21608 non-null  int64  \n",
      " 16  Zipcode                                    21608 non-null  float64\n",
      " 17  Latitude                                   21607 non-null  float64\n",
      " 18  Longitude                                  21607 non-null  float64\n",
      " 19  Living Area after Renovation (in Sqft)     21607 non-null  float64\n",
      " 20  Lot Area after Renovation (in Sqft)        21608 non-null  int64  \n",
      "dtypes: float64(10), int64(7), object(4)\n",
      "memory usage: 3.6+ MB\n"
     ]
    }
   ],
   "source": [
    "data.info()"
   ]
  },
  {
   "cell_type": "code",
   "execution_count": 7,
   "id": "86ca6b6c",
   "metadata": {},
   "outputs": [],
   "source": [
    "from sklearn.impute import SimpleImputer"
   ]
  },
  {
   "cell_type": "code",
   "execution_count": 8,
   "id": "3889a2e7",
   "metadata": {},
   "outputs": [
    {
     "data": {
      "text/plain": [
       "Index(['Sale Price', 'No of Bathrooms', 'Flat Area (in Sqft)',\n",
       "       'Lot Area (in Sqft)', 'No of Floors',\n",
       "       'Area of the House from Basement (in Sqft)', 'Zipcode', 'Latitude',\n",
       "       'Longitude', 'Living Area after Renovation (in Sqft)'],\n",
       "      dtype='object')"
      ]
     },
     "execution_count": 8,
     "metadata": {},
     "output_type": "execute_result"
    }
   ],
   "source": [
    "data.select_dtypes(\"float64\").columns"
   ]
  },
  {
   "cell_type": "code",
   "execution_count": 9,
   "id": "2fe794a0",
   "metadata": {},
   "outputs": [],
   "source": [
    "numerical_features=[ 'Flat Area (in Sqft)',\n",
    "       'Lot Area (in Sqft)', \n",
    "       'Area of the House from Basement (in Sqft)', 'Latitude',\n",
    "       'Longitude', 'Living Area after Renovation (in Sqft)']"
   ]
  },
  {
   "cell_type": "code",
   "execution_count": 10,
   "id": "60cb5685",
   "metadata": {},
   "outputs": [],
   "source": [
    "\n",
    "imputer=SimpleImputer(strategy=\"mean\")\n",
    "\n",
    "arr=imputer.fit_transform(data[numerical_features])"
   ]
  },
  {
   "cell_type": "code",
   "execution_count": 11,
   "id": "b4220295",
   "metadata": {},
   "outputs": [],
   "source": [
    "data[numerical_features]=arr"
   ]
  },
  {
   "cell_type": "code",
   "execution_count": 12,
   "id": "d888ecdc",
   "metadata": {},
   "outputs": [],
   "source": [
    "data[\"No of Bathrooms\"].fillna(method=\"bfill\",inplace=True)"
   ]
  },
  {
   "cell_type": "code",
   "execution_count": 13,
   "id": "dc8185dd",
   "metadata": {},
   "outputs": [],
   "source": [
    "data.drop(columns=[\"No of Times Visited\"],inplace=True)"
   ]
  },
  {
   "cell_type": "code",
   "execution_count": 14,
   "id": "c18bec7b",
   "metadata": {},
   "outputs": [
    {
     "data": {
      "text/plain": [
       "ID                                           0\n",
       "Date House was Sold                          0\n",
       "Sale Price                                   0\n",
       "No of Bedrooms                               0\n",
       "No of Bathrooms                              0\n",
       "Flat Area (in Sqft)                          0\n",
       "Lot Area (in Sqft)                           0\n",
       "No of Floors                                 0\n",
       "Waterfront View                              0\n",
       "Condition of the House                       0\n",
       "Overall Grade                                0\n",
       "Area of the House from Basement (in Sqft)    0\n",
       "Basement Area (in Sqft)                      0\n",
       "Age of House (in Years)                      0\n",
       "Renovated Year                               0\n",
       "Zipcode                                      0\n",
       "Latitude                                     0\n",
       "Longitude                                    0\n",
       "Living Area after Renovation (in Sqft)       0\n",
       "Lot Area after Renovation (in Sqft)          0\n",
       "dtype: int64"
      ]
     },
     "execution_count": 14,
     "metadata": {},
     "output_type": "execute_result"
    }
   ],
   "source": [
    "data.isnull().sum()"
   ]
  },
  {
   "cell_type": "markdown",
   "id": "a10d2d54",
   "metadata": {},
   "source": [
    "feature creation "
   ]
  },
  {
   "cell_type": "code",
   "execution_count": 15,
   "id": "973c61b3",
   "metadata": {},
   "outputs": [
    {
     "data": {
      "text/plain": [
       "array(['Fair', 'Excellent', 'Good', 'Bad', 'Okay'], dtype=object)"
      ]
     },
     "execution_count": 15,
     "metadata": {},
     "output_type": "execute_result"
    }
   ],
   "source": [
    "data[\"Condition of the House\"].unique()"
   ]
  },
  {
   "cell_type": "code",
   "execution_count": 16,
   "id": "05e0d221",
   "metadata": {},
   "outputs": [],
   "source": [
    "def luxary(row):\n",
    "    count=0\n",
    "    if row[0]>7:\n",
    "        count +=1\n",
    "    if row[1]==\"Yes\":\n",
    "        count+=1\n",
    "    if row[2] in ['Excellent', 'Good']:\n",
    "        count+=1\n",
    "    if count>=2:\n",
    "        return \"Yes\"\n",
    "    else:\n",
    "        return \"No\"\n",
    "        \n",
    "    \n",
    "    \n",
    "data[\"Luxary\"]=data[[\"Overall Grade\",\"Waterfront View\",\"Condition of the House\"]].apply(luxary,axis=1)"
   ]
  },
  {
   "cell_type": "code",
   "execution_count": 17,
   "id": "40888dfc",
   "metadata": {},
   "outputs": [],
   "source": [
    "def year(value):\n",
    "    return value.split()[-1]\n",
    "\n",
    "data[\"Date House was Sold\"]=data[\"Date House was Sold\"].map(year)"
   ]
  },
  {
   "cell_type": "code",
   "execution_count": 18,
   "id": "4bb83117",
   "metadata": {},
   "outputs": [
    {
     "data": {
      "text/html": [
       "<div>\n",
       "<style scoped>\n",
       "    .dataframe tbody tr th:only-of-type {\n",
       "        vertical-align: middle;\n",
       "    }\n",
       "\n",
       "    .dataframe tbody tr th {\n",
       "        vertical-align: top;\n",
       "    }\n",
       "\n",
       "    .dataframe thead th {\n",
       "        text-align: right;\n",
       "    }\n",
       "</style>\n",
       "<table border=\"1\" class=\"dataframe\">\n",
       "  <thead>\n",
       "    <tr style=\"text-align: right;\">\n",
       "      <th></th>\n",
       "      <th>ID</th>\n",
       "      <th>Date House was Sold</th>\n",
       "      <th>Sale Price</th>\n",
       "      <th>No of Bedrooms</th>\n",
       "      <th>No of Bathrooms</th>\n",
       "      <th>Flat Area (in Sqft)</th>\n",
       "      <th>Lot Area (in Sqft)</th>\n",
       "      <th>No of Floors</th>\n",
       "      <th>Waterfront View</th>\n",
       "      <th>Condition of the House</th>\n",
       "      <th>...</th>\n",
       "      <th>Area of the House from Basement (in Sqft)</th>\n",
       "      <th>Basement Area (in Sqft)</th>\n",
       "      <th>Age of House (in Years)</th>\n",
       "      <th>Renovated Year</th>\n",
       "      <th>Zipcode</th>\n",
       "      <th>Latitude</th>\n",
       "      <th>Longitude</th>\n",
       "      <th>Living Area after Renovation (in Sqft)</th>\n",
       "      <th>Lot Area after Renovation (in Sqft)</th>\n",
       "      <th>Luxary</th>\n",
       "    </tr>\n",
       "  </thead>\n",
       "  <tbody>\n",
       "    <tr>\n",
       "      <th>0</th>\n",
       "      <td>7129300520</td>\n",
       "      <td>2017</td>\n",
       "      <td>221900.0</td>\n",
       "      <td>3</td>\n",
       "      <td>1.00</td>\n",
       "      <td>1180.0</td>\n",
       "      <td>5650.0</td>\n",
       "      <td>1.0</td>\n",
       "      <td>No</td>\n",
       "      <td>Fair</td>\n",
       "      <td>...</td>\n",
       "      <td>1180.0</td>\n",
       "      <td>0</td>\n",
       "      <td>63</td>\n",
       "      <td>0</td>\n",
       "      <td>98178.0</td>\n",
       "      <td>47.5112</td>\n",
       "      <td>-122.257</td>\n",
       "      <td>1340.0</td>\n",
       "      <td>5650</td>\n",
       "      <td>No</td>\n",
       "    </tr>\n",
       "    <tr>\n",
       "      <th>1</th>\n",
       "      <td>6414100192</td>\n",
       "      <td>2017</td>\n",
       "      <td>538000.0</td>\n",
       "      <td>3</td>\n",
       "      <td>2.25</td>\n",
       "      <td>2570.0</td>\n",
       "      <td>7242.0</td>\n",
       "      <td>2.0</td>\n",
       "      <td>No</td>\n",
       "      <td>Fair</td>\n",
       "      <td>...</td>\n",
       "      <td>2170.0</td>\n",
       "      <td>400</td>\n",
       "      <td>67</td>\n",
       "      <td>1991</td>\n",
       "      <td>98125.0</td>\n",
       "      <td>47.7210</td>\n",
       "      <td>-122.319</td>\n",
       "      <td>1690.0</td>\n",
       "      <td>7639</td>\n",
       "      <td>No</td>\n",
       "    </tr>\n",
       "    <tr>\n",
       "      <th>2</th>\n",
       "      <td>5631500400</td>\n",
       "      <td>2016</td>\n",
       "      <td>180000.0</td>\n",
       "      <td>2</td>\n",
       "      <td>1.00</td>\n",
       "      <td>770.0</td>\n",
       "      <td>10000.0</td>\n",
       "      <td>1.0</td>\n",
       "      <td>No</td>\n",
       "      <td>Fair</td>\n",
       "      <td>...</td>\n",
       "      <td>770.0</td>\n",
       "      <td>0</td>\n",
       "      <td>85</td>\n",
       "      <td>0</td>\n",
       "      <td>98028.0</td>\n",
       "      <td>47.7379</td>\n",
       "      <td>-122.233</td>\n",
       "      <td>2720.0</td>\n",
       "      <td>8062</td>\n",
       "      <td>No</td>\n",
       "    </tr>\n",
       "  </tbody>\n",
       "</table>\n",
       "<p>3 rows × 21 columns</p>\n",
       "</div>"
      ],
      "text/plain": [
       "           ID Date House was Sold  Sale Price  No of Bedrooms  \\\n",
       "0  7129300520                2017    221900.0               3   \n",
       "1  6414100192                2017    538000.0               3   \n",
       "2  5631500400                2016    180000.0               2   \n",
       "\n",
       "   No of Bathrooms  Flat Area (in Sqft)  Lot Area (in Sqft)  No of Floors  \\\n",
       "0             1.00               1180.0              5650.0           1.0   \n",
       "1             2.25               2570.0              7242.0           2.0   \n",
       "2             1.00                770.0             10000.0           1.0   \n",
       "\n",
       "  Waterfront View Condition of the House  ...  \\\n",
       "0              No                   Fair  ...   \n",
       "1              No                   Fair  ...   \n",
       "2              No                   Fair  ...   \n",
       "\n",
       "   Area of the House from Basement (in Sqft)  Basement Area (in Sqft)  \\\n",
       "0                                     1180.0                        0   \n",
       "1                                     2170.0                      400   \n",
       "2                                      770.0                        0   \n",
       "\n",
       "   Age of House (in Years)  Renovated Year  Zipcode  Latitude  Longitude  \\\n",
       "0                       63               0  98178.0   47.5112   -122.257   \n",
       "1                       67            1991  98125.0   47.7210   -122.319   \n",
       "2                       85               0  98028.0   47.7379   -122.233   \n",
       "\n",
       "   Living Area after Renovation (in Sqft)  \\\n",
       "0                                  1340.0   \n",
       "1                                  1690.0   \n",
       "2                                  2720.0   \n",
       "\n",
       "   Lot Area after Renovation (in Sqft)  Luxary  \n",
       "0                                 5650      No  \n",
       "1                                 7639      No  \n",
       "2                                 8062      No  \n",
       "\n",
       "[3 rows x 21 columns]"
      ]
     },
     "execution_count": 18,
     "metadata": {},
     "output_type": "execute_result"
    }
   ],
   "source": [
    "data.head(3)"
   ]
  },
  {
   "cell_type": "code",
   "execution_count": 19,
   "id": "3152f243",
   "metadata": {},
   "outputs": [],
   "source": [
    "data[\"Date House was Sold\"]=data[\"Date House was Sold\"].astype(\"int64\")"
   ]
  },
  {
   "cell_type": "code",
   "execution_count": 20,
   "id": "f65946d4",
   "metadata": {},
   "outputs": [],
   "source": [
    "data[\"Year since renovated\"]=np.where(data[\"Renovated Year\"]==0,0,abs(data[\"Date House was Sold\"]-data[\"Renovated Year\"]))"
   ]
  },
  {
   "cell_type": "code",
   "execution_count": 21,
   "id": "b9ad6a31",
   "metadata": {},
   "outputs": [
    {
     "name": "stdout",
     "output_type": "stream",
     "text": [
      "<class 'pandas.core.frame.DataFrame'>\n",
      "Index: 21608 entries, 0 to 21612\n",
      "Data columns (total 22 columns):\n",
      " #   Column                                     Non-Null Count  Dtype  \n",
      "---  ------                                     --------------  -----  \n",
      " 0   ID                                         21608 non-null  int64  \n",
      " 1   Date House was Sold                        21608 non-null  int64  \n",
      " 2   Sale Price                                 21608 non-null  float64\n",
      " 3   No of Bedrooms                             21608 non-null  int64  \n",
      " 4   No of Bathrooms                            21608 non-null  float64\n",
      " 5   Flat Area (in Sqft)                        21608 non-null  float64\n",
      " 6   Lot Area (in Sqft)                         21608 non-null  float64\n",
      " 7   No of Floors                               21608 non-null  float64\n",
      " 8   Waterfront View                            21608 non-null  object \n",
      " 9   Condition of the House                     21608 non-null  object \n",
      " 10  Overall Grade                              21608 non-null  int64  \n",
      " 11  Area of the House from Basement (in Sqft)  21608 non-null  float64\n",
      " 12  Basement Area (in Sqft)                    21608 non-null  int64  \n",
      " 13  Age of House (in Years)                    21608 non-null  int64  \n",
      " 14  Renovated Year                             21608 non-null  int64  \n",
      " 15  Zipcode                                    21608 non-null  float64\n",
      " 16  Latitude                                   21608 non-null  float64\n",
      " 17  Longitude                                  21608 non-null  float64\n",
      " 18  Living Area after Renovation (in Sqft)     21608 non-null  float64\n",
      " 19  Lot Area after Renovation (in Sqft)        21608 non-null  int64  \n",
      " 20  Luxary                                     21608 non-null  object \n",
      " 21  Year since renovated                       21608 non-null  int64  \n",
      "dtypes: float64(10), int64(9), object(3)\n",
      "memory usage: 3.8+ MB\n"
     ]
    }
   ],
   "source": [
    "data.info()"
   ]
  },
  {
   "cell_type": "markdown",
   "id": "58677227",
   "metadata": {},
   "source": [
    "checking skewness"
   ]
  },
  {
   "cell_type": "code",
   "execution_count": 22,
   "id": "c62725af",
   "metadata": {},
   "outputs": [
    {
     "data": {
      "text/html": [
       "<div>\n",
       "<style scoped>\n",
       "    .dataframe tbody tr th:only-of-type {\n",
       "        vertical-align: middle;\n",
       "    }\n",
       "\n",
       "    .dataframe tbody tr th {\n",
       "        vertical-align: top;\n",
       "    }\n",
       "\n",
       "    .dataframe thead th {\n",
       "        text-align: right;\n",
       "    }\n",
       "</style>\n",
       "<table border=\"1\" class=\"dataframe\">\n",
       "  <thead>\n",
       "    <tr style=\"text-align: right;\">\n",
       "      <th></th>\n",
       "      <th>Sale Price</th>\n",
       "    </tr>\n",
       "    <tr>\n",
       "      <th>Zipcode</th>\n",
       "      <th></th>\n",
       "    </tr>\n",
       "  </thead>\n",
       "  <tbody>\n",
       "    <tr>\n",
       "      <th>98002.0</th>\n",
       "      <td>2.342840e+05</td>\n",
       "    </tr>\n",
       "    <tr>\n",
       "      <th>98168.0</th>\n",
       "      <td>2.403284e+05</td>\n",
       "    </tr>\n",
       "    <tr>\n",
       "      <th>98032.0</th>\n",
       "      <td>2.512962e+05</td>\n",
       "    </tr>\n",
       "    <tr>\n",
       "      <th>98001.0</th>\n",
       "      <td>2.808047e+05</td>\n",
       "    </tr>\n",
       "    <tr>\n",
       "      <th>98148.0</th>\n",
       "      <td>2.849086e+05</td>\n",
       "    </tr>\n",
       "    <tr>\n",
       "      <th>...</th>\n",
       "      <td>...</td>\n",
       "    </tr>\n",
       "    <tr>\n",
       "      <th>98102.0</th>\n",
       "      <td>9.015162e+05</td>\n",
       "    </tr>\n",
       "    <tr>\n",
       "      <th>98112.0</th>\n",
       "      <td>1.096239e+06</td>\n",
       "    </tr>\n",
       "    <tr>\n",
       "      <th>98040.0</th>\n",
       "      <td>1.194874e+06</td>\n",
       "    </tr>\n",
       "    <tr>\n",
       "      <th>98004.0</th>\n",
       "      <td>1.356524e+06</td>\n",
       "    </tr>\n",
       "    <tr>\n",
       "      <th>98039.0</th>\n",
       "      <td>2.161300e+06</td>\n",
       "    </tr>\n",
       "  </tbody>\n",
       "</table>\n",
       "<p>70 rows × 1 columns</p>\n",
       "</div>"
      ],
      "text/plain": [
       "           Sale Price\n",
       "Zipcode              \n",
       "98002.0  2.342840e+05\n",
       "98168.0  2.403284e+05\n",
       "98032.0  2.512962e+05\n",
       "98001.0  2.808047e+05\n",
       "98148.0  2.849086e+05\n",
       "...               ...\n",
       "98102.0  9.015162e+05\n",
       "98112.0  1.096239e+06\n",
       "98040.0  1.194874e+06\n",
       "98004.0  1.356524e+06\n",
       "98039.0  2.161300e+06\n",
       "\n",
       "[70 rows x 1 columns]"
      ]
     },
     "execution_count": 22,
     "metadata": {},
     "output_type": "execute_result"
    }
   ],
   "source": [
    "zipcode = pd.DataFrame(data.groupby(\"Zipcode\")[\"Sale Price\"].mean().sort_values())\n",
    "zipcode"
   ]
  },
  {
   "cell_type": "code",
   "execution_count": 23,
   "id": "d2d71c4e",
   "metadata": {},
   "outputs": [],
   "source": [
    "zipcode[\"Zipcode\"]=pd.cut(zipcode[\"Sale Price\"],bins=10,labels=[\"zipcode_group_0\",\n",
    "                                                                \"zipcode_group_1\",\n",
    "                                                                \"zipcode_group_2\",\n",
    "                                                                \"zipcode_group_3\",\n",
    "                                                                \"zipcode_group_4\",\n",
    "                                                                \"zipcode_group_5\",\n",
    "                                                                \"zipcode_group_6\",\n",
    "                                                                \"zipcode_group_7\",\n",
    "                                                                \"zipcode_group_8\",\n",
    "                                                                \"zipcode_group_9\"],\n",
    "                          include_lowest=True)"
   ]
  },
  {
   "cell_type": "code",
   "execution_count": 24,
   "id": "4f604595",
   "metadata": {},
   "outputs": [
    {
     "data": {
      "text/plain": [
       "Zipcode\n",
       "98002.0    2.342840e+05\n",
       "98168.0    2.403284e+05\n",
       "98032.0    2.512962e+05\n",
       "98001.0    2.808047e+05\n",
       "98148.0    2.849086e+05\n",
       "               ...     \n",
       "98102.0    9.015162e+05\n",
       "98112.0    1.096239e+06\n",
       "98040.0    1.194874e+06\n",
       "98004.0    1.356524e+06\n",
       "98039.0    2.161300e+06\n",
       "Name: Sale Price, Length: 70, dtype: float64"
      ]
     },
     "execution_count": 24,
     "metadata": {},
     "output_type": "execute_result"
    }
   ],
   "source": [
    "zipcode.pop(\"Sale Price\")"
   ]
  },
  {
   "cell_type": "code",
   "execution_count": 25,
   "id": "0f34da34",
   "metadata": {},
   "outputs": [],
   "source": [
    "data=pd.merge(left=data,\n",
    "         right=zipcode,\n",
    "         left_on=\"Zipcode\",\n",
    "        how=\"left\",\n",
    "        right_index=True\n",
    "         )"
   ]
  },
  {
   "cell_type": "code",
   "execution_count": 26,
   "id": "6dee5305",
   "metadata": {},
   "outputs": [
    {
     "name": "stdout",
     "output_type": "stream",
     "text": [
      "<class 'pandas.core.frame.DataFrame'>\n",
      "Index: 21608 entries, 0 to 21612\n",
      "Data columns (total 24 columns):\n",
      " #   Column                                     Non-Null Count  Dtype   \n",
      "---  ------                                     --------------  -----   \n",
      " 0   Zipcode                                    21608 non-null  float64 \n",
      " 1   ID                                         21608 non-null  int64   \n",
      " 2   Date House was Sold                        21608 non-null  int64   \n",
      " 3   Sale Price                                 21608 non-null  float64 \n",
      " 4   No of Bedrooms                             21608 non-null  int64   \n",
      " 5   No of Bathrooms                            21608 non-null  float64 \n",
      " 6   Flat Area (in Sqft)                        21608 non-null  float64 \n",
      " 7   Lot Area (in Sqft)                         21608 non-null  float64 \n",
      " 8   No of Floors                               21608 non-null  float64 \n",
      " 9   Waterfront View                            21608 non-null  object  \n",
      " 10  Condition of the House                     21608 non-null  object  \n",
      " 11  Overall Grade                              21608 non-null  int64   \n",
      " 12  Area of the House from Basement (in Sqft)  21608 non-null  float64 \n",
      " 13  Basement Area (in Sqft)                    21608 non-null  int64   \n",
      " 14  Age of House (in Years)                    21608 non-null  int64   \n",
      " 15  Renovated Year                             21608 non-null  int64   \n",
      " 16  Zipcode_x                                  21608 non-null  float64 \n",
      " 17  Latitude                                   21608 non-null  float64 \n",
      " 18  Longitude                                  21608 non-null  float64 \n",
      " 19  Living Area after Renovation (in Sqft)     21608 non-null  float64 \n",
      " 20  Lot Area after Renovation (in Sqft)        21608 non-null  int64   \n",
      " 21  Luxary                                     21608 non-null  object  \n",
      " 22  Year since renovated                       21608 non-null  int64   \n",
      " 23  Zipcode_y                                  21608 non-null  category\n",
      "dtypes: category(1), float64(11), int64(9), object(3)\n",
      "memory usage: 4.0+ MB\n"
     ]
    }
   ],
   "source": [
    "data.info()"
   ]
  },
  {
   "cell_type": "code",
   "execution_count": 27,
   "id": "258bf771",
   "metadata": {},
   "outputs": [
    {
     "data": {
      "text/html": [
       "<div>\n",
       "<style scoped>\n",
       "    .dataframe tbody tr th:only-of-type {\n",
       "        vertical-align: middle;\n",
       "    }\n",
       "\n",
       "    .dataframe tbody tr th {\n",
       "        vertical-align: top;\n",
       "    }\n",
       "\n",
       "    .dataframe thead th {\n",
       "        text-align: right;\n",
       "    }\n",
       "</style>\n",
       "<table border=\"1\" class=\"dataframe\">\n",
       "  <thead>\n",
       "    <tr style=\"text-align: right;\">\n",
       "      <th></th>\n",
       "      <th>Zipcode</th>\n",
       "      <th>ID</th>\n",
       "      <th>Date House was Sold</th>\n",
       "      <th>Sale Price</th>\n",
       "      <th>No of Bedrooms</th>\n",
       "      <th>No of Bathrooms</th>\n",
       "      <th>Flat Area (in Sqft)</th>\n",
       "      <th>Lot Area (in Sqft)</th>\n",
       "      <th>No of Floors</th>\n",
       "      <th>Waterfront View</th>\n",
       "      <th>...</th>\n",
       "      <th>Age of House (in Years)</th>\n",
       "      <th>Renovated Year</th>\n",
       "      <th>Zipcode_x</th>\n",
       "      <th>Latitude</th>\n",
       "      <th>Longitude</th>\n",
       "      <th>Living Area after Renovation (in Sqft)</th>\n",
       "      <th>Lot Area after Renovation (in Sqft)</th>\n",
       "      <th>Luxary</th>\n",
       "      <th>Year since renovated</th>\n",
       "      <th>Zipcode_y</th>\n",
       "    </tr>\n",
       "  </thead>\n",
       "  <tbody>\n",
       "    <tr>\n",
       "      <th>0</th>\n",
       "      <td>98178.0</td>\n",
       "      <td>7129300520</td>\n",
       "      <td>2017</td>\n",
       "      <td>221900.0</td>\n",
       "      <td>3</td>\n",
       "      <td>1.00</td>\n",
       "      <td>1180.0</td>\n",
       "      <td>5650.0</td>\n",
       "      <td>1.0</td>\n",
       "      <td>No</td>\n",
       "      <td>...</td>\n",
       "      <td>63</td>\n",
       "      <td>0</td>\n",
       "      <td>98178.0</td>\n",
       "      <td>47.5112</td>\n",
       "      <td>-122.257</td>\n",
       "      <td>1340.0</td>\n",
       "      <td>5650</td>\n",
       "      <td>No</td>\n",
       "      <td>0</td>\n",
       "      <td>zipcode_group_0</td>\n",
       "    </tr>\n",
       "    <tr>\n",
       "      <th>1</th>\n",
       "      <td>98125.0</td>\n",
       "      <td>6414100192</td>\n",
       "      <td>2017</td>\n",
       "      <td>538000.0</td>\n",
       "      <td>3</td>\n",
       "      <td>2.25</td>\n",
       "      <td>2570.0</td>\n",
       "      <td>7242.0</td>\n",
       "      <td>2.0</td>\n",
       "      <td>No</td>\n",
       "      <td>...</td>\n",
       "      <td>67</td>\n",
       "      <td>1991</td>\n",
       "      <td>98125.0</td>\n",
       "      <td>47.7210</td>\n",
       "      <td>-122.319</td>\n",
       "      <td>1690.0</td>\n",
       "      <td>7639</td>\n",
       "      <td>No</td>\n",
       "      <td>26</td>\n",
       "      <td>zipcode_group_1</td>\n",
       "    </tr>\n",
       "    <tr>\n",
       "      <th>2</th>\n",
       "      <td>98028.0</td>\n",
       "      <td>5631500400</td>\n",
       "      <td>2016</td>\n",
       "      <td>180000.0</td>\n",
       "      <td>2</td>\n",
       "      <td>1.00</td>\n",
       "      <td>770.0</td>\n",
       "      <td>10000.0</td>\n",
       "      <td>1.0</td>\n",
       "      <td>No</td>\n",
       "      <td>...</td>\n",
       "      <td>85</td>\n",
       "      <td>0</td>\n",
       "      <td>98028.0</td>\n",
       "      <td>47.7379</td>\n",
       "      <td>-122.233</td>\n",
       "      <td>2720.0</td>\n",
       "      <td>8062</td>\n",
       "      <td>No</td>\n",
       "      <td>0</td>\n",
       "      <td>zipcode_group_1</td>\n",
       "    </tr>\n",
       "  </tbody>\n",
       "</table>\n",
       "<p>3 rows × 24 columns</p>\n",
       "</div>"
      ],
      "text/plain": [
       "   Zipcode          ID  Date House was Sold  Sale Price  No of Bedrooms  \\\n",
       "0  98178.0  7129300520                 2017    221900.0               3   \n",
       "1  98125.0  6414100192                 2017    538000.0               3   \n",
       "2  98028.0  5631500400                 2016    180000.0               2   \n",
       "\n",
       "   No of Bathrooms  Flat Area (in Sqft)  Lot Area (in Sqft)  No of Floors  \\\n",
       "0             1.00               1180.0              5650.0           1.0   \n",
       "1             2.25               2570.0              7242.0           2.0   \n",
       "2             1.00                770.0             10000.0           1.0   \n",
       "\n",
       "  Waterfront View  ... Age of House (in Years)  Renovated Year  Zipcode_x  \\\n",
       "0              No  ...                      63               0    98178.0   \n",
       "1              No  ...                      67            1991    98125.0   \n",
       "2              No  ...                      85               0    98028.0   \n",
       "\n",
       "   Latitude  Longitude  Living Area after Renovation (in Sqft)  \\\n",
       "0   47.5112   -122.257                                  1340.0   \n",
       "1   47.7210   -122.319                                  1690.0   \n",
       "2   47.7379   -122.233                                  2720.0   \n",
       "\n",
       "   Lot Area after Renovation (in Sqft)  Luxary  Year since renovated  \\\n",
       "0                                 5650      No                     0   \n",
       "1                                 7639      No                    26   \n",
       "2                                 8062      No                     0   \n",
       "\n",
       "         Zipcode_y  \n",
       "0  zipcode_group_0  \n",
       "1  zipcode_group_1  \n",
       "2  zipcode_group_1  \n",
       "\n",
       "[3 rows x 24 columns]"
      ]
     },
     "execution_count": 27,
     "metadata": {},
     "output_type": "execute_result"
    }
   ],
   "source": [
    "data.head(3)"
   ]
  },
  {
   "cell_type": "code",
   "execution_count": 28,
   "id": "410a771a",
   "metadata": {},
   "outputs": [
    {
     "data": {
      "text/plain": [
       "Index(['Zipcode', 'ID', 'Date House was Sold', 'Sale Price', 'No of Bedrooms',\n",
       "       'No of Bathrooms', 'Flat Area (in Sqft)', 'Lot Area (in Sqft)',\n",
       "       'No of Floors', 'Waterfront View', 'Condition of the House',\n",
       "       'Overall Grade', 'Area of the House from Basement (in Sqft)',\n",
       "       'Basement Area (in Sqft)', 'Age of House (in Years)', 'Renovated Year',\n",
       "       'Zipcode_x', 'Latitude', 'Longitude',\n",
       "       'Living Area after Renovation (in Sqft)',\n",
       "       'Lot Area after Renovation (in Sqft)', 'Luxary', 'Year since renovated',\n",
       "       'Zipcode_y'],\n",
       "      dtype='object')"
      ]
     },
     "execution_count": 28,
     "metadata": {},
     "output_type": "execute_result"
    }
   ],
   "source": [
    "data.columns"
   ]
  },
  {
   "cell_type": "code",
   "execution_count": 29,
   "id": "9f20ca0b",
   "metadata": {},
   "outputs": [],
   "source": [
    "data.drop(columns=[\"Zipcode_x\"],inplace=True)"
   ]
  },
  {
   "cell_type": "code",
   "execution_count": 30,
   "id": "3549adae",
   "metadata": {},
   "outputs": [
    {
     "name": "stdout",
     "output_type": "stream",
     "text": [
      "<class 'pandas.core.frame.DataFrame'>\n",
      "Index: 21608 entries, 0 to 21612\n",
      "Data columns (total 23 columns):\n",
      " #   Column                                     Non-Null Count  Dtype   \n",
      "---  ------                                     --------------  -----   \n",
      " 0   Zipcode                                    21608 non-null  float64 \n",
      " 1   ID                                         21608 non-null  int64   \n",
      " 2   Date House was Sold                        21608 non-null  int64   \n",
      " 3   Sale Price                                 21608 non-null  float64 \n",
      " 4   No of Bedrooms                             21608 non-null  int64   \n",
      " 5   No of Bathrooms                            21608 non-null  float64 \n",
      " 6   Flat Area (in Sqft)                        21608 non-null  float64 \n",
      " 7   Lot Area (in Sqft)                         21608 non-null  float64 \n",
      " 8   No of Floors                               21608 non-null  float64 \n",
      " 9   Waterfront View                            21608 non-null  object  \n",
      " 10  Condition of the House                     21608 non-null  object  \n",
      " 11  Overall Grade                              21608 non-null  int64   \n",
      " 12  Area of the House from Basement (in Sqft)  21608 non-null  float64 \n",
      " 13  Basement Area (in Sqft)                    21608 non-null  int64   \n",
      " 14  Age of House (in Years)                    21608 non-null  int64   \n",
      " 15  Renovated Year                             21608 non-null  int64   \n",
      " 16  Latitude                                   21608 non-null  float64 \n",
      " 17  Longitude                                  21608 non-null  float64 \n",
      " 18  Living Area after Renovation (in Sqft)     21608 non-null  float64 \n",
      " 19  Lot Area after Renovation (in Sqft)        21608 non-null  int64   \n",
      " 20  Luxary                                     21608 non-null  object  \n",
      " 21  Year since renovated                       21608 non-null  int64   \n",
      " 22  Zipcode_y                                  21608 non-null  category\n",
      "dtypes: category(1), float64(10), int64(9), object(3)\n",
      "memory usage: 3.8+ MB\n"
     ]
    }
   ],
   "source": [
    "data.info()"
   ]
  },
  {
   "cell_type": "markdown",
   "id": "8510d514",
   "metadata": {},
   "source": [
    "Removing Outliers"
   ]
  },
  {
   "cell_type": "code",
   "execution_count": 31,
   "id": "efad7551",
   "metadata": {},
   "outputs": [
    {
     "data": {
      "text/plain": [
       "(np.float64(321837.5), np.float64(645000.0))"
      ]
     },
     "execution_count": 31,
     "metadata": {},
     "output_type": "execute_result"
    }
   ],
   "source": [
    "q1=data[\"Sale Price\"].quantile(0.25)\n",
    "q3=data[\"Sale Price\"].quantile(0.75)\n",
    "(q1,q3)"
   ]
  },
  {
   "cell_type": "code",
   "execution_count": 32,
   "id": "c6287a6c",
   "metadata": {},
   "outputs": [
    {
     "data": {
      "text/plain": [
       "np.float64(323162.5)"
      ]
     },
     "execution_count": 32,
     "metadata": {},
     "output_type": "execute_result"
    }
   ],
   "source": [
    "iqr=q3-q1\n",
    "iqr"
   ]
  },
  {
   "cell_type": "code",
   "execution_count": 33,
   "id": "c67e28c6",
   "metadata": {},
   "outputs": [
    {
     "data": {
      "text/plain": [
       "(np.float64(1129743.75), np.float64(-162906.25))"
      ]
     },
     "execution_count": 33,
     "metadata": {},
     "output_type": "execute_result"
    }
   ],
   "source": [
    "lower_bound = q1 - 1.5 * iqr\n",
    "upper_bound = q3 + 1.5 * iqr\n",
    "\n",
    "(upper_bound,lower_bound)"
   ]
  },
  {
   "cell_type": "code",
   "execution_count": 34,
   "id": "f27bbb4c",
   "metadata": {},
   "outputs": [
    {
     "data": {
      "text/plain": [
       "np.float64(7700000.0)"
      ]
     },
     "execution_count": 34,
     "metadata": {},
     "output_type": "execute_result"
    }
   ],
   "source": [
    "data[\"Sale Price\"].max()"
   ]
  },
  {
   "cell_type": "code",
   "execution_count": 35,
   "id": "afc6a1d8",
   "metadata": {},
   "outputs": [
    {
     "data": {
      "image/png": "[encoded data removed]",
      "text/plain": [
       "<Figure size 640x480 with 1 Axes>"
      ]
     },
     "metadata": {},
     "output_type": "display_data"
    }
   ],
   "source": [
    "plt.boxplot(data[\"Sale Price\"])\n",
    "plt.show()"
   ]
  },
  {
   "cell_type": "markdown",
   "id": "ce8f0777",
   "metadata": {},
   "source": [
    "handlin outliers "
   ]
  },
  {
   "cell_type": "code",
   "execution_count": 36,
   "id": "b9efaa30",
   "metadata": {},
   "outputs": [],
   "source": [
    "def outliers(value):\n",
    "    \n",
    "    if value > upper_bound:\n",
    "        return upper_bound\n",
    "    elif value <lower_bound:\n",
    "        return lower_bound\n",
    "    else:\n",
    "        return value\n",
    "    \n",
    "    \n",
    "data[\"Sale Price\"]=data[\"Sale Price\"].map(outliers)"
   ]
  },
  {
   "cell_type": "code",
   "execution_count": 37,
   "id": "51c6cf65",
   "metadata": {},
   "outputs": [
    {
     "data": {
      "text/plain": [
       "np.float64(1129743.75)"
      ]
     },
     "execution_count": 37,
     "metadata": {},
     "output_type": "execute_result"
    }
   ],
   "source": [
    "data[\"Sale Price\"].max()"
   ]
  },
  {
   "cell_type": "code",
   "execution_count": 38,
   "id": "37680139",
   "metadata": {},
   "outputs": [],
   "source": [
    "data=pd.get_dummies(data,columns=[\"Waterfront View\",\"Condition of the House\",\"Luxary\",\"Zipcode_y\"], drop_first=True)"
   ]
  },
  {
   "cell_type": "code",
   "execution_count": 39,
   "id": "114c731a",
   "metadata": {},
   "outputs": [],
   "source": [
    "data.drop(columns=[\"Renovated Year\",\"Date House was Sold\",\"Zipcode\",\"ID\"],inplace=True)\n"
   ]
  },
  {
   "cell_type": "code",
   "execution_count": 40,
   "id": "c1eb2f38",
   "metadata": {},
   "outputs": [
    {
     "name": "stdout",
     "output_type": "stream",
     "text": [
      "<class 'pandas.core.frame.DataFrame'>\n",
      "Index: 21608 entries, 0 to 21612\n",
      "Data columns (total 30 columns):\n",
      " #   Column                                     Non-Null Count  Dtype  \n",
      "---  ------                                     --------------  -----  \n",
      " 0   Sale Price                                 21608 non-null  float64\n",
      " 1   No of Bedrooms                             21608 non-null  int64  \n",
      " 2   No of Bathrooms                            21608 non-null  float64\n",
      " 3   Flat Area (in Sqft)                        21608 non-null  float64\n",
      " 4   Lot Area (in Sqft)                         21608 non-null  float64\n",
      " 5   No of Floors                               21608 non-null  float64\n",
      " 6   Overall Grade                              21608 non-null  int64  \n",
      " 7   Area of the House from Basement (in Sqft)  21608 non-null  float64\n",
      " 8   Basement Area (in Sqft)                    21608 non-null  int64  \n",
      " 9   Age of House (in Years)                    21608 non-null  int64  \n",
      " 10  Latitude                                   21608 non-null  float64\n",
      " 11  Longitude                                  21608 non-null  float64\n",
      " 12  Living Area after Renovation (in Sqft)     21608 non-null  float64\n",
      " 13  Lot Area after Renovation (in Sqft)        21608 non-null  int64  \n",
      " 14  Year since renovated                       21608 non-null  int64  \n",
      " 15  Waterfront View_Yes                        21608 non-null  bool   \n",
      " 16  Condition of the House_Excellent           21608 non-null  bool   \n",
      " 17  Condition of the House_Fair                21608 non-null  bool   \n",
      " 18  Condition of the House_Good                21608 non-null  bool   \n",
      " 19  Condition of the House_Okay                21608 non-null  bool   \n",
      " 20  Luxary_Yes                                 21608 non-null  bool   \n",
      " 21  Zipcode_y_zipcode_group_1                  21608 non-null  bool   \n",
      " 22  Zipcode_y_zipcode_group_2                  21608 non-null  bool   \n",
      " 23  Zipcode_y_zipcode_group_3                  21608 non-null  bool   \n",
      " 24  Zipcode_y_zipcode_group_4                  21608 non-null  bool   \n",
      " 25  Zipcode_y_zipcode_group_5                  21608 non-null  bool   \n",
      " 26  Zipcode_y_zipcode_group_6                  21608 non-null  bool   \n",
      " 27  Zipcode_y_zipcode_group_7                  21608 non-null  bool   \n",
      " 28  Zipcode_y_zipcode_group_8                  21608 non-null  bool   \n",
      " 29  Zipcode_y_zipcode_group_9                  21608 non-null  bool   \n",
      "dtypes: bool(15), float64(9), int64(6)\n",
      "memory usage: 2.9 MB\n"
     ]
    }
   ],
   "source": [
    "data.info()"
   ]
  },
  {
   "cell_type": "code",
   "execution_count": 41,
   "id": "46e1ea94",
   "metadata": {},
   "outputs": [
    {
     "data": {
      "text/html": [
       "<div>\n",
       "<style scoped>\n",
       "    .dataframe tbody tr th:only-of-type {\n",
       "        vertical-align: middle;\n",
       "    }\n",
       "\n",
       "    .dataframe tbody tr th {\n",
       "        vertical-align: top;\n",
       "    }\n",
       "\n",
       "    .dataframe thead th {\n",
       "        text-align: right;\n",
       "    }\n",
       "</style>\n",
       "<table border=\"1\" class=\"dataframe\">\n",
       "  <thead>\n",
       "    <tr style=\"text-align: right;\">\n",
       "      <th></th>\n",
       "      <th>Sale Price</th>\n",
       "      <th>No of Bedrooms</th>\n",
       "      <th>No of Bathrooms</th>\n",
       "      <th>Flat Area (in Sqft)</th>\n",
       "      <th>Lot Area (in Sqft)</th>\n",
       "      <th>No of Floors</th>\n",
       "      <th>Overall Grade</th>\n",
       "      <th>Area of the House from Basement (in Sqft)</th>\n",
       "      <th>Basement Area (in Sqft)</th>\n",
       "      <th>Age of House (in Years)</th>\n",
       "      <th>...</th>\n",
       "      <th>Luxary_Yes</th>\n",
       "      <th>Zipcode_y_zipcode_group_1</th>\n",
       "      <th>Zipcode_y_zipcode_group_2</th>\n",
       "      <th>Zipcode_y_zipcode_group_3</th>\n",
       "      <th>Zipcode_y_zipcode_group_4</th>\n",
       "      <th>Zipcode_y_zipcode_group_5</th>\n",
       "      <th>Zipcode_y_zipcode_group_6</th>\n",
       "      <th>Zipcode_y_zipcode_group_7</th>\n",
       "      <th>Zipcode_y_zipcode_group_8</th>\n",
       "      <th>Zipcode_y_zipcode_group_9</th>\n",
       "    </tr>\n",
       "  </thead>\n",
       "  <tbody>\n",
       "    <tr>\n",
       "      <th>0</th>\n",
       "      <td>221900.0</td>\n",
       "      <td>3</td>\n",
       "      <td>1.00</td>\n",
       "      <td>1180.0</td>\n",
       "      <td>5650.0</td>\n",
       "      <td>1.0</td>\n",
       "      <td>7</td>\n",
       "      <td>1180.0</td>\n",
       "      <td>0</td>\n",
       "      <td>63</td>\n",
       "      <td>...</td>\n",
       "      <td>False</td>\n",
       "      <td>False</td>\n",
       "      <td>False</td>\n",
       "      <td>False</td>\n",
       "      <td>False</td>\n",
       "      <td>False</td>\n",
       "      <td>False</td>\n",
       "      <td>False</td>\n",
       "      <td>False</td>\n",
       "      <td>False</td>\n",
       "    </tr>\n",
       "    <tr>\n",
       "      <th>1</th>\n",
       "      <td>538000.0</td>\n",
       "      <td>3</td>\n",
       "      <td>2.25</td>\n",
       "      <td>2570.0</td>\n",
       "      <td>7242.0</td>\n",
       "      <td>2.0</td>\n",
       "      <td>7</td>\n",
       "      <td>2170.0</td>\n",
       "      <td>400</td>\n",
       "      <td>67</td>\n",
       "      <td>...</td>\n",
       "      <td>False</td>\n",
       "      <td>True</td>\n",
       "      <td>False</td>\n",
       "      <td>False</td>\n",
       "      <td>False</td>\n",
       "      <td>False</td>\n",
       "      <td>False</td>\n",
       "      <td>False</td>\n",
       "      <td>False</td>\n",
       "      <td>False</td>\n",
       "    </tr>\n",
       "    <tr>\n",
       "      <th>2</th>\n",
       "      <td>180000.0</td>\n",
       "      <td>2</td>\n",
       "      <td>1.00</td>\n",
       "      <td>770.0</td>\n",
       "      <td>10000.0</td>\n",
       "      <td>1.0</td>\n",
       "      <td>6</td>\n",
       "      <td>770.0</td>\n",
       "      <td>0</td>\n",
       "      <td>85</td>\n",
       "      <td>...</td>\n",
       "      <td>False</td>\n",
       "      <td>True</td>\n",
       "      <td>False</td>\n",
       "      <td>False</td>\n",
       "      <td>False</td>\n",
       "      <td>False</td>\n",
       "      <td>False</td>\n",
       "      <td>False</td>\n",
       "      <td>False</td>\n",
       "      <td>False</td>\n",
       "    </tr>\n",
       "  </tbody>\n",
       "</table>\n",
       "<p>3 rows × 30 columns</p>\n",
       "</div>"
      ],
      "text/plain": [
       "   Sale Price  No of Bedrooms  No of Bathrooms  Flat Area (in Sqft)  \\\n",
       "0    221900.0               3             1.00               1180.0   \n",
       "1    538000.0               3             2.25               2570.0   \n",
       "2    180000.0               2             1.00                770.0   \n",
       "\n",
       "   Lot Area (in Sqft)  No of Floors  Overall Grade  \\\n",
       "0              5650.0           1.0              7   \n",
       "1              7242.0           2.0              7   \n",
       "2             10000.0           1.0              6   \n",
       "\n",
       "   Area of the House from Basement (in Sqft)  Basement Area (in Sqft)  \\\n",
       "0                                     1180.0                        0   \n",
       "1                                     2170.0                      400   \n",
       "2                                      770.0                        0   \n",
       "\n",
       "   Age of House (in Years)  ...  Luxary_Yes  Zipcode_y_zipcode_group_1  \\\n",
       "0                       63  ...       False                      False   \n",
       "1                       67  ...       False                       True   \n",
       "2                       85  ...       False                       True   \n",
       "\n",
       "   Zipcode_y_zipcode_group_2  Zipcode_y_zipcode_group_3  \\\n",
       "0                      False                      False   \n",
       "1                      False                      False   \n",
       "2                      False                      False   \n",
       "\n",
       "   Zipcode_y_zipcode_group_4  Zipcode_y_zipcode_group_5  \\\n",
       "0                      False                      False   \n",
       "1                      False                      False   \n",
       "2                      False                      False   \n",
       "\n",
       "   Zipcode_y_zipcode_group_6  Zipcode_y_zipcode_group_7  \\\n",
       "0                      False                      False   \n",
       "1                      False                      False   \n",
       "2                      False                      False   \n",
       "\n",
       "   Zipcode_y_zipcode_group_8  Zipcode_y_zipcode_group_9  \n",
       "0                      False                      False  \n",
       "1                      False                      False  \n",
       "2                      False                      False  \n",
       "\n",
       "[3 rows x 30 columns]"
      ]
     },
     "execution_count": 41,
     "metadata": {},
     "output_type": "execute_result"
    }
   ],
   "source": [
    "data.head(3)"
   ]
  },
  {
   "cell_type": "markdown",
   "id": "57190f54",
   "metadata": {},
   "source": [
    "defining X and Y"
   ]
  },
  {
   "cell_type": "code",
   "execution_count": 42,
   "id": "bcbbd058",
   "metadata": {},
   "outputs": [],
   "source": [
    "x1=data.iloc[:,1:]\n",
    "x=data.iloc[:,1:]\n",
    "y=data[\"Sale Price\"]"
   ]
  },
  {
   "cell_type": "code",
   "execution_count": 43,
   "id": "3bbe993e",
   "metadata": {},
   "outputs": [
    {
     "data": {
      "text/html": [
       "<div>\n",
       "<style scoped>\n",
       "    .dataframe tbody tr th:only-of-type {\n",
       "        vertical-align: middle;\n",
       "    }\n",
       "\n",
       "    .dataframe tbody tr th {\n",
       "        vertical-align: top;\n",
       "    }\n",
       "\n",
       "    .dataframe thead th {\n",
       "        text-align: right;\n",
       "    }\n",
       "</style>\n",
       "<table border=\"1\" class=\"dataframe\">\n",
       "  <thead>\n",
       "    <tr style=\"text-align: right;\">\n",
       "      <th></th>\n",
       "      <th>No of Bedrooms</th>\n",
       "      <th>No of Bathrooms</th>\n",
       "      <th>Flat Area (in Sqft)</th>\n",
       "      <th>Lot Area (in Sqft)</th>\n",
       "      <th>No of Floors</th>\n",
       "      <th>Overall Grade</th>\n",
       "      <th>Area of the House from Basement (in Sqft)</th>\n",
       "      <th>Basement Area (in Sqft)</th>\n",
       "      <th>Age of House (in Years)</th>\n",
       "      <th>Latitude</th>\n",
       "      <th>...</th>\n",
       "      <th>Luxary_Yes</th>\n",
       "      <th>Zipcode_y_zipcode_group_1</th>\n",
       "      <th>Zipcode_y_zipcode_group_2</th>\n",
       "      <th>Zipcode_y_zipcode_group_3</th>\n",
       "      <th>Zipcode_y_zipcode_group_4</th>\n",
       "      <th>Zipcode_y_zipcode_group_5</th>\n",
       "      <th>Zipcode_y_zipcode_group_6</th>\n",
       "      <th>Zipcode_y_zipcode_group_7</th>\n",
       "      <th>Zipcode_y_zipcode_group_8</th>\n",
       "      <th>Zipcode_y_zipcode_group_9</th>\n",
       "    </tr>\n",
       "  </thead>\n",
       "  <tbody>\n",
       "    <tr>\n",
       "      <th>0</th>\n",
       "      <td>3</td>\n",
       "      <td>1.00</td>\n",
       "      <td>1180.0</td>\n",
       "      <td>5650.0</td>\n",
       "      <td>1.0</td>\n",
       "      <td>7</td>\n",
       "      <td>1180.0</td>\n",
       "      <td>0</td>\n",
       "      <td>63</td>\n",
       "      <td>47.5112</td>\n",
       "      <td>...</td>\n",
       "      <td>False</td>\n",
       "      <td>False</td>\n",
       "      <td>False</td>\n",
       "      <td>False</td>\n",
       "      <td>False</td>\n",
       "      <td>False</td>\n",
       "      <td>False</td>\n",
       "      <td>False</td>\n",
       "      <td>False</td>\n",
       "      <td>False</td>\n",
       "    </tr>\n",
       "    <tr>\n",
       "      <th>1</th>\n",
       "      <td>3</td>\n",
       "      <td>2.25</td>\n",
       "      <td>2570.0</td>\n",
       "      <td>7242.0</td>\n",
       "      <td>2.0</td>\n",
       "      <td>7</td>\n",
       "      <td>2170.0</td>\n",
       "      <td>400</td>\n",
       "      <td>67</td>\n",
       "      <td>47.7210</td>\n",
       "      <td>...</td>\n",
       "      <td>False</td>\n",
       "      <td>True</td>\n",
       "      <td>False</td>\n",
       "      <td>False</td>\n",
       "      <td>False</td>\n",
       "      <td>False</td>\n",
       "      <td>False</td>\n",
       "      <td>False</td>\n",
       "      <td>False</td>\n",
       "      <td>False</td>\n",
       "    </tr>\n",
       "    <tr>\n",
       "      <th>2</th>\n",
       "      <td>2</td>\n",
       "      <td>1.00</td>\n",
       "      <td>770.0</td>\n",
       "      <td>10000.0</td>\n",
       "      <td>1.0</td>\n",
       "      <td>6</td>\n",
       "      <td>770.0</td>\n",
       "      <td>0</td>\n",
       "      <td>85</td>\n",
       "      <td>47.7379</td>\n",
       "      <td>...</td>\n",
       "      <td>False</td>\n",
       "      <td>True</td>\n",
       "      <td>False</td>\n",
       "      <td>False</td>\n",
       "      <td>False</td>\n",
       "      <td>False</td>\n",
       "      <td>False</td>\n",
       "      <td>False</td>\n",
       "      <td>False</td>\n",
       "      <td>False</td>\n",
       "    </tr>\n",
       "  </tbody>\n",
       "</table>\n",
       "<p>3 rows × 29 columns</p>\n",
       "</div>"
      ],
      "text/plain": [
       "   No of Bedrooms  No of Bathrooms  Flat Area (in Sqft)  Lot Area (in Sqft)  \\\n",
       "0               3             1.00               1180.0              5650.0   \n",
       "1               3             2.25               2570.0              7242.0   \n",
       "2               2             1.00                770.0             10000.0   \n",
       "\n",
       "   No of Floors  Overall Grade  Area of the House from Basement (in Sqft)  \\\n",
       "0           1.0              7                                     1180.0   \n",
       "1           2.0              7                                     2170.0   \n",
       "2           1.0              6                                      770.0   \n",
       "\n",
       "   Basement Area (in Sqft)  Age of House (in Years)  Latitude  ...  \\\n",
       "0                        0                       63   47.5112  ...   \n",
       "1                      400                       67   47.7210  ...   \n",
       "2                        0                       85   47.7379  ...   \n",
       "\n",
       "   Luxary_Yes  Zipcode_y_zipcode_group_1  Zipcode_y_zipcode_group_2  \\\n",
       "0       False                      False                      False   \n",
       "1       False                       True                      False   \n",
       "2       False                       True                      False   \n",
       "\n",
       "   Zipcode_y_zipcode_group_3  Zipcode_y_zipcode_group_4  \\\n",
       "0                      False                      False   \n",
       "1                      False                      False   \n",
       "2                      False                      False   \n",
       "\n",
       "   Zipcode_y_zipcode_group_5  Zipcode_y_zipcode_group_6  \\\n",
       "0                      False                      False   \n",
       "1                      False                      False   \n",
       "2                      False                      False   \n",
       "\n",
       "   Zipcode_y_zipcode_group_7  Zipcode_y_zipcode_group_8  \\\n",
       "0                      False                      False   \n",
       "1                      False                      False   \n",
       "2                      False                      False   \n",
       "\n",
       "   Zipcode_y_zipcode_group_9  \n",
       "0                      False  \n",
       "1                      False  \n",
       "2                      False  \n",
       "\n",
       "[3 rows x 29 columns]"
      ]
     },
     "execution_count": 43,
     "metadata": {},
     "output_type": "execute_result"
    }
   ],
   "source": [
    "x.head(3)"
   ]
  },
  {
   "cell_type": "code",
   "execution_count": 44,
   "id": "98e1a8d9",
   "metadata": {},
   "outputs": [
    {
     "name": "stdout",
     "output_type": "stream",
     "text": [
      "<class 'pandas.core.frame.DataFrame'>\n",
      "Index: 21608 entries, 0 to 21612\n",
      "Data columns (total 29 columns):\n",
      " #   Column                                     Non-Null Count  Dtype  \n",
      "---  ------                                     --------------  -----  \n",
      " 0   No of Bedrooms                             21608 non-null  int64  \n",
      " 1   No of Bathrooms                            21608 non-null  float64\n",
      " 2   Flat Area (in Sqft)                        21608 non-null  float64\n",
      " 3   Lot Area (in Sqft)                         21608 non-null  float64\n",
      " 4   No of Floors                               21608 non-null  float64\n",
      " 5   Overall Grade                              21608 non-null  int64  \n",
      " 6   Area of the House from Basement (in Sqft)  21608 non-null  float64\n",
      " 7   Basement Area (in Sqft)                    21608 non-null  int64  \n",
      " 8   Age of House (in Years)                    21608 non-null  int64  \n",
      " 9   Latitude                                   21608 non-null  float64\n",
      " 10  Longitude                                  21608 non-null  float64\n",
      " 11  Living Area after Renovation (in Sqft)     21608 non-null  float64\n",
      " 12  Lot Area after Renovation (in Sqft)        21608 non-null  int64  \n",
      " 13  Year since renovated                       21608 non-null  int64  \n",
      " 14  Waterfront View_Yes                        21608 non-null  bool   \n",
      " 15  Condition of the House_Excellent           21608 non-null  bool   \n",
      " 16  Condition of the House_Fair                21608 non-null  bool   \n",
      " 17  Condition of the House_Good                21608 non-null  bool   \n",
      " 18  Condition of the House_Okay                21608 non-null  bool   \n",
      " 19  Luxary_Yes                                 21608 non-null  bool   \n",
      " 20  Zipcode_y_zipcode_group_1                  21608 non-null  bool   \n",
      " 21  Zipcode_y_zipcode_group_2                  21608 non-null  bool   \n",
      " 22  Zipcode_y_zipcode_group_3                  21608 non-null  bool   \n",
      " 23  Zipcode_y_zipcode_group_4                  21608 non-null  bool   \n",
      " 24  Zipcode_y_zipcode_group_5                  21608 non-null  bool   \n",
      " 25  Zipcode_y_zipcode_group_6                  21608 non-null  bool   \n",
      " 26  Zipcode_y_zipcode_group_7                  21608 non-null  bool   \n",
      " 27  Zipcode_y_zipcode_group_8                  21608 non-null  bool   \n",
      " 28  Zipcode_y_zipcode_group_9                  21608 non-null  bool   \n",
      "dtypes: bool(15), float64(8), int64(6)\n",
      "memory usage: 2.8 MB\n"
     ]
    }
   ],
   "source": [
    "x.info()"
   ]
  },
  {
   "cell_type": "markdown",
   "id": "a1507460",
   "metadata": {},
   "source": [
    "Removing skewness "
   ]
  },
  {
   "cell_type": "markdown",
   "id": "89e10df1",
   "metadata": {},
   "source": [
    "cheaking correlation "
   ]
  },
  {
   "cell_type": "code",
   "execution_count": 45,
   "id": "ab5f3748",
   "metadata": {},
   "outputs": [
    {
     "ename": "NameError",
     "evalue": "name 'high_corr' is not defined",
     "output_type": "error",
     "traceback": [
      "\u001b[31m---------------------------------------------------------------------------\u001b[39m",
      "\u001b[31mNameError\u001b[39m                                 Traceback (most recent call last)",
      "\u001b[36mCell\u001b[39m\u001b[36m \u001b[39m\u001b[32mIn[45]\u001b[39m\u001b[32m, line 1\u001b[39m\n\u001b[32m----> \u001b[39m\u001b[32m1\u001b[39m x=x.drop(columns=[\u001b[43mhigh_corr\u001b[49m])\n",
      "\u001b[31mNameError\u001b[39m: name 'high_corr' is not defined"
     ]
    }
   ],
   "source": [
    "x=x.drop(columns=[high_corr])"
   ]
  },
  {
   "cell_type": "code",
   "execution_count": null,
   "id": "e6632452",
   "metadata": {},
   "outputs": [],
   "source": []
  },
  {
   "cell_type": "code",
   "execution_count": 46,
   "id": "0687fe1e",
   "metadata": {},
   "outputs": [
    {
     "data": {
      "text/plain": [
       "No of Bedrooms                               0\n",
       "No of Bathrooms                              0\n",
       "Flat Area (in Sqft)                          0\n",
       "Lot Area (in Sqft)                           0\n",
       "No of Floors                                 0\n",
       "Overall Grade                                0\n",
       "Area of the House from Basement (in Sqft)    0\n",
       "Basement Area (in Sqft)                      0\n",
       "Age of House (in Years)                      0\n",
       "Latitude                                     0\n",
       "Longitude                                    0\n",
       "Living Area after Renovation (in Sqft)       0\n",
       "Lot Area after Renovation (in Sqft)          0\n",
       "Year since renovated                         0\n",
       "Waterfront View_Yes                          0\n",
       "Condition of the House_Excellent             0\n",
       "Condition of the House_Fair                  0\n",
       "Condition of the House_Good                  0\n",
       "Condition of the House_Okay                  0\n",
       "Luxary_Yes                                   0\n",
       "Zipcode_y_zipcode_group_1                    0\n",
       "Zipcode_y_zipcode_group_2                    0\n",
       "Zipcode_y_zipcode_group_3                    0\n",
       "Zipcode_y_zipcode_group_4                    0\n",
       "Zipcode_y_zipcode_group_5                    0\n",
       "Zipcode_y_zipcode_group_6                    0\n",
       "Zipcode_y_zipcode_group_7                    0\n",
       "Zipcode_y_zipcode_group_8                    0\n",
       "Zipcode_y_zipcode_group_9                    0\n",
       "dtype: int64"
      ]
     },
     "execution_count": 46,
     "metadata": {},
     "output_type": "execute_result"
    }
   ],
   "source": [
    "x1.isnull().sum()"
   ]
  },
  {
   "cell_type": "markdown",
   "id": "29c661cb",
   "metadata": {},
   "source": [
    "first model"
   ]
  },
  {
   "cell_type": "code",
   "execution_count": 47,
   "id": "7fe8910e",
   "metadata": {},
   "outputs": [],
   "source": [
    "from sklearn.preprocessing import StandardScaler\n",
    "\n",
    "scaler1= StandardScaler()\n",
    "\n",
    "x1=pd.DataFrame(scaler1.fit_transform(x1),columns=x.columns)"
   ]
  },
  {
   "cell_type": "code",
   "execution_count": 48,
   "id": "b267f7e1",
   "metadata": {},
   "outputs": [],
   "source": [
    "from sklearn.model_selection import train_test_split\n",
    "\n",
    "x1_train,x1_test,y_train,y_test=train_test_split(x1,y,train_size=0.8,random_state=72)"
   ]
  },
  {
   "cell_type": "code",
   "execution_count": 49,
   "id": "95273fc0",
   "metadata": {},
   "outputs": [
    {
     "data": {
      "text/plain": [
       "0.8241859047632594"
      ]
     },
     "execution_count": 49,
     "metadata": {},
     "output_type": "execute_result"
    }
   ],
   "source": [
    "from sklearn.linear_model import LinearRegression\n",
    "\n",
    "model1=LinearRegression()\n",
    "\n",
    "model1.fit(x1_train,y_train)\n",
    "\n",
    "model1.score(x1_test,y_test)"
   ]
  },
  {
   "cell_type": "code",
   "execution_count": 50,
   "id": "3d94ab54",
   "metadata": {},
   "outputs": [],
   "source": [
    "pred_1=model1.predict(x1_test)"
   ]
  },
  {
   "cell_type": "code",
   "execution_count": 51,
   "id": "06351187",
   "metadata": {},
   "outputs": [
    {
     "data": {
      "text/plain": [
       "0.7866664174391967"
      ]
     },
     "execution_count": 51,
     "metadata": {},
     "output_type": "execute_result"
    }
   ],
   "source": [
    "r2_score(pred_1,y_test)"
   ]
  },
  {
   "cell_type": "code",
   "execution_count": 52,
   "id": "80a23024",
   "metadata": {},
   "outputs": [
    {
     "data": {
      "text/plain": [
       "104280.67549255742"
      ]
     },
     "execution_count": 52,
     "metadata": {},
     "output_type": "execute_result"
    }
   ],
   "source": [
    "root_mean_squared_error(pred_1,y_test)"
   ]
  },
  {
   "cell_type": "markdown",
   "id": "da05c0b8",
   "metadata": {},
   "source": [
    "second model"
   ]
  },
  {
   "cell_type": "code",
   "execution_count": 53,
   "id": "acc86483",
   "metadata": {},
   "outputs": [],
   "source": [
    "from scipy.stats import skew\n",
    "\n",
    "for i in (x.drop(columns=x.select_dtypes(\"bool\")).columns):\n",
    "    \n",
    "    skewness=skew(x[i])\n",
    "    \n",
    "    if skewness >0:\n",
    "        x[i]=np.sqrt(x[i])\n",
    "    elif skewness <0:\n",
    "        x[i]=np.square(x[i])"
   ]
  },
  {
   "cell_type": "code",
   "execution_count": 54,
   "id": "06765778",
   "metadata": {},
   "outputs": [
    {
     "data": {
      "text/plain": [
       "[]"
      ]
     },
     "execution_count": 54,
     "metadata": {},
     "output_type": "execute_result"
    }
   ],
   "source": [
    "high_corr=[]\n",
    "\n",
    "for i in x.columns:\n",
    "    for j in x.columns:\n",
    "        if i !=j:\n",
    "            if abs(x[i].corr(x[j])) > 0.90:\n",
    "                if j not in high_corr:\n",
    "                    high_corr.append(j)\n",
    "         \n",
    "            \n",
    "high_corr        \n"
   ]
  },
  {
   "cell_type": "code",
   "execution_count": 56,
   "id": "a9511e00",
   "metadata": {},
   "outputs": [],
   "source": [
    "x=x.drop(columns=high_corr)"
   ]
  },
  {
   "cell_type": "code",
   "execution_count": 57,
   "id": "e6b47523",
   "metadata": {},
   "outputs": [
    {
     "data": {
      "text/plain": [
       "0       NaN\n",
       "1       NaN\n",
       "2       NaN\n",
       "3       NaN\n",
       "4       NaN\n",
       "         ..\n",
       "21603   NaN\n",
       "21604   NaN\n",
       "21605   NaN\n",
       "21606   NaN\n",
       "21607   NaN\n",
       "Name: Longitude, Length: 21608, dtype: float64"
      ]
     },
     "execution_count": 57,
     "metadata": {},
     "output_type": "execute_result"
    }
   ],
   "source": [
    "scaler=StandardScaler()\n",
    "\n",
    "x=pd.DataFrame(scaler.fit_transform(x),columns=x.columns)\n",
    "x.pop(\"Longitude\")"
   ]
  },
  {
   "cell_type": "code",
   "execution_count": 58,
   "id": "f02d4a91",
   "metadata": {},
   "outputs": [],
   "source": [
    "x_train,x_test,y_train,y_test=train_test_split(x,y,train_size=0.8,random_state=72)\n",
    "\n",
    "model=LinearRegression()\n",
    "\n",
    "model.fit(x_train,y_train)\n",
    "\n",
    "pred=model.predict(x_test)"
   ]
  },
  {
   "cell_type": "code",
   "execution_count": 59,
   "id": "61ef5bd2",
   "metadata": {},
   "outputs": [
    {
     "data": {
      "text/plain": [
       "0.8045768540488722"
      ]
     },
     "execution_count": 59,
     "metadata": {},
     "output_type": "execute_result"
    }
   ],
   "source": [
    "model.score(x_train,y_train)"
   ]
  },
  {
   "cell_type": "code",
   "execution_count": 60,
   "id": "f3ac26e8",
   "metadata": {},
   "outputs": [
    {
     "data": {
      "text/plain": [
       "0.7673727169174708"
      ]
     },
     "execution_count": 60,
     "metadata": {},
     "output_type": "execute_result"
    }
   ],
   "source": [
    "r2_score(pred,y_test)"
   ]
  },
  {
   "cell_type": "code",
   "execution_count": 61,
   "id": "3da2fd00",
   "metadata": {},
   "outputs": [
    {
     "data": {
      "text/plain": [
       "107844.91386455245"
      ]
     },
     "execution_count": 61,
     "metadata": {},
     "output_type": "execute_result"
    }
   ],
   "source": [
    "root_mean_squared_error(pred,y_test)"
   ]
  }
 ],
 "metadata": {
  "kernelspec": {
   "display_name": "project",
   "language": "python",
   "name": "python3"
  },
  "language_info": {
   "codemirror_mode": {
    "name": "ipython",
    "version": 3
   },
   "file_extension": ".py",
   "mimetype": "text/x-python",
   "name": "python",
   "nbconvert_exporter": "python",
   "pygments_lexer": "ipython3",
   "version": "3.11.11"
  }
 },
 "nbformat": 4,
 "nbformat_minor": 5
}
